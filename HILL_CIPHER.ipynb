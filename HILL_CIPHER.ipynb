{
  "nbformat": 4,
  "nbformat_minor": 0,
  "metadata": {
    "colab": {
      "provenance": [],
      "authorship_tag": "ABX9TyNXZrDKTOqwucT/fAtC+C72",
      "include_colab_link": true
    },
    "kernelspec": {
      "name": "python3",
      "display_name": "Python 3"
    },
    "language_info": {
      "name": "python"
    }
  },
  "cells": [
    {
      "cell_type": "markdown",
      "metadata": {
        "id": "view-in-github",
        "colab_type": "text"
      },
      "source": [
        "<a href=\"https://colab.research.google.com/github/RenukaDhavala/11239A023_DBS_-Record/blob/main/HILL_CIPHER.ipynb\" target=\"_parent\"><img src=\"https://colab.research.google.com/assets/colab-badge.svg\" alt=\"Open In Colab\"/></a>"
      ]
    },
    {
      "cell_type": "code",
      "execution_count": 2,
      "metadata": {
        "id": "34rb5k-vq_rM",
        "colab": {
          "base_uri": "https://localhost:8080/"
        },
        "outputId": "16e21047-183d-443b-8dcb-532e0ea22185"
      },
      "outputs": [
        {
          "output_type": "stream",
          "name": "stdout",
          "text": [
            "Enter plain text: RENUKA\n",
            "17 4 13 20 10 0 \n",
            "Encrypted Cipher Text :  D  Z  F\n",
            "Decrypted Cipher Text :  R  E  N"
          ]
        }
      ],
      "source": [
        "import numpy as np\n",
        "def main():\n",
        "    a = np.array([[6, 24, 1], [13, 16, 10], [20, 17, 15]], dtype=np.uint32)\n",
        "    b = np.array([[8, 5, 10], [21, 8, 21], [21, 12, 8]], dtype=np.uint32)\n",
        "    c = [0] * 20\n",
        "    d = [0] * 20\n",
        "    msg = input(\"Enter plain text: \")\n",
        "    for i in range(len(msg)):\n",
        "        c[i] = ord(msg[i]) - 65\n",
        "        print(c[i], end=\" \")\n",
        "    for i in range(3):\n",
        "        t = 0\n",
        "        for j in range(3):\n",
        "            t += a[i][j] * c[j]\n",
        "        d[i] = t % 26\n",
        "    print(\"\\nEncrypted Cipher Text :\", end=\"\")\n",
        "    for i in range(3):\n",
        "        print(\" \", chr(d[i] + 65), end=\"\")\n",
        "    for i in range(3):\n",
        "        t = 0\n",
        "        for j in range(3):\n",
        "            t += b[i][j] * d[j]\n",
        "        c[i] = t % 26\n",
        "    print(\"\\nDecrypted Cipher Text :\", end=\"\")\n",
        "    for i in range(3):\n",
        "        print(\" \", chr(c[i] + 65), end=\"\")\n",
        "if __name__ == \"__main__\":\n",
        "    main()"
      ]
    }
  ]
}