{
  "nbformat": 4,
  "nbformat_minor": 0,
  "metadata": {
    "colab": {
      "provenance": [],
      "authorship_tag": "ABX9TyOeTcSUdAV0jPp3vtKBNcWv",
      "include_colab_link": true
    },
    "kernelspec": {
      "name": "python3",
      "display_name": "Python 3"
    },
    "language_info": {
      "name": "python"
    }
  },
  "cells": [
    {
      "cell_type": "markdown",
      "metadata": {
        "id": "view-in-github",
        "colab_type": "text"
      },
      "source": [
        "<a href=\"https://colab.research.google.com/github/RenukaDhavala/11239A023_DBS_-Record/blob/main/RSA_RIVEST_%E2%80%93_SHAMIR_ALMIR.ipynb\" target=\"_parent\"><img src=\"https://colab.research.google.com/assets/colab-badge.svg\" alt=\"Open In Colab\"/></a>"
      ]
    },
    {
      "cell_type": "code",
      "execution_count": 1,
      "metadata": {
        "colab": {
          "base_uri": "https://localhost:8080/"
        },
        "id": "Uj3nzakAvi1g",
        "outputId": "c20fbc47-265f-408b-905b-644c1f39dac7"
      },
      "outputs": [
        {
          "output_type": "stream",
          "name": "stdout",
          "text": [
            "Enter two prime numbers:\n",
            "p = 21\n",
            "q = 11\n",
            "\n",
            "Public Key (e, n): (3, 231)\n",
            "Private Key (d, n): (67, 231)\n",
            "\n",
            "Enter message to encrypt: Greetings exchange!1\n",
            "Encrypted: [92, 141, 41, 41, 29, 84, 209, 97, 202, 197, 41, 120, 99, 125, 223, 209, 97, 41, 132, 70]\n",
            "Decrypted: G\u000f§§2iÑÊµÅ§xchaÑÊ§1\n"
          ]
        }
      ],
      "source": [
        "import math\n",
        "\n",
        "def gcd(a, b):\n",
        "    while b:\n",
        "        a, b = b, a % b\n",
        "    return a\n",
        "\n",
        "print(\"Enter two prime numbers:\")\n",
        "p = int(input(\"p = \"))\n",
        "q = int(input(\"q = \"))\n",
        "\n",
        "n = p * q\n",
        "phi = (p - 1) * (q - 1)\n",
        "\n",
        "# Choose e\n",
        "for e in range(2, phi):\n",
        "    if gcd(e, phi) == 1:\n",
        "        break\n",
        "\n",
        "# Find d\n",
        "for d in range(2, phi):\n",
        "    if (d * e) % phi == 1:\n",
        "        break\n",
        "\n",
        "print(\"\\nPublic Key (e, n):\", (e, n))\n",
        "print(\"Private Key (d, n):\", (d, n))\n",
        "\n",
        "msg = input(\"\\nEnter message to encrypt: \")\n",
        "\n",
        "# Encrypt\n",
        "encrypted = [(ord(char) ** e) % n for char in msg]\n",
        "print(\"Encrypted:\", encrypted)\n",
        "\n",
        "# Decrypt\n",
        "decrypted = ''.join(chr((c ** d) % n) for c in encrypted)\n",
        "print(\"Decrypted:\", decrypted)\n"
      ]
    }
  ]
}