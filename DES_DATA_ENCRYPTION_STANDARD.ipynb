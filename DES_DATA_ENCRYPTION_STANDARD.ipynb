{
  "nbformat": 4,
  "nbformat_minor": 0,
  "metadata": {
    "colab": {
      "provenance": [],
      "authorship_tag": "ABX9TyNUEK4e1PYAWzwnNjhn5yKE",
      "include_colab_link": true
    },
    "kernelspec": {
      "name": "python3",
      "display_name": "Python 3"
    },
    "language_info": {
      "name": "python"
    }
  },
  "cells": [
    {
      "cell_type": "markdown",
      "metadata": {
        "id": "view-in-github",
        "colab_type": "text"
      },
      "source": [
        "<a href=\"https://colab.research.google.com/github/RenukaDhavala/11239A023_DBS_-Record/blob/main/DES_DATA_ENCRYPTION_STANDARD.ipynb\" target=\"_parent\"><img src=\"https://colab.research.google.com/assets/colab-badge.svg\" alt=\"Open In Colab\"/></a>"
      ]
    },
    {
      "cell_type": "code",
      "source": [
        "from Crypto.Cipher import DES\n",
        "from Crypto.Util.Padding import pad, unpad\n",
        "\n",
        "# Key must be 8 bytes\n",
        "key = b'12345678'\n",
        "\n",
        "# Message\n",
        "plain_text = input(\"Enter message: \").encode()\n",
        "\n",
        "# Encrypt\n",
        "cipher = DES.new(key, DES.MODE_ECB)\n",
        "encrypted = cipher.encrypt(pad(plain_text, DES.block_size))\n",
        "print(\"Encrypted (hex):\", encrypted.hex())\n",
        "\n",
        "# Decrypt\n",
        "cipher = DES.new(key, DES.MODE_ECB)\n",
        "decrypted = unpad(cipher.decrypt(encrypted), DES.block_size)\n",
        "print(\"Decrypted:\", decrypted.decode())\n"
      ],
      "metadata": {
        "colab": {
          "base_uri": "https://localhost:8080/"
        },
        "id": "xHE6mHShuylr",
        "outputId": "6bb8d0a9-82ee-4d8d-d6a4-6904c76ab92b"
      },
      "execution_count": 5,
      "outputs": [
        {
          "output_type": "stream",
          "name": "stdout",
          "text": [
            "Enter message:  Hi You recived a lotry of 2l conogragulations\n",
            "Encrypted (hex): 2ad502696cf11f94d6d353518a1c0903b73e93a0dd1f5d000bfca508c161c260dab6d675c43959dba8c46c6e6a6050f7\n",
            "Decrypted:  Hi You recived a lotry of 2l conogragulations\n"
          ]
        }
      ]
    }
  ]
}