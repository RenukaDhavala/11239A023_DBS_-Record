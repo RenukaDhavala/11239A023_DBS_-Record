{
  "nbformat": 4,
  "nbformat_minor": 0,
  "metadata": {
    "colab": {
      "provenance": [],
      "authorship_tag": "ABX9TyNsYcY0lDDYBopELZzCFL5+",
      "include_colab_link": true
    },
    "kernelspec": {
      "name": "python3",
      "display_name": "Python 3"
    },
    "language_info": {
      "name": "python"
    }
  },
  "cells": [
    {
      "cell_type": "markdown",
      "metadata": {
        "id": "view-in-github",
        "colab_type": "text"
      },
      "source": [
        "<a href=\"https://colab.research.google.com/github/RenukaDhavala/11239A023_DBS_-Record/blob/main/SIGNATURE_SCHEME_DIGITAL_SIGNATURE_STANDARD.ipynb\" target=\"_parent\"><img src=\"https://colab.research.google.com/assets/colab-badge.svg\" alt=\"Open In Colab\"/></a>"
      ]
    },
    {
      "cell_type": "code",
      "execution_count": 2,
      "metadata": {
        "colab": {
          "base_uri": "https://localhost:8080/"
        },
        "id": "CXrBs7pfyS2q",
        "outputId": "a5e1920d-261e-494c-e493-b0f8889971cc"
      },
      "outputs": [
        {
          "output_type": "stream",
          "name": "stdout",
          "text": [
            "\n",
            " simulation of Digital Signature Algorithm \n",
            "\n",
            "\n",
            " global public key components are:\n",
            "\n",
            "\n",
            "p is: 10601\n",
            "\n",
            "q is: 53\n",
            "\n",
            "g is: 479\n",
            "\n",
            "secret information are:\n",
            "\n",
            "x (private) is: 26\n",
            "k (secret) is: 42\n",
            "y (public) is: 29\n",
            "h (rndhash) is: 1977\n",
            "\n",
            " generating digital signature:\n",
            "\n",
            "r is : 47\n",
            "s is : 32\n",
            "\n",
            "verifying digital signature (checkpoints)\n",
            ":\n",
            "w is : 5\n",
            "u1 is : 27\n",
            "u2 is : 23\n",
            "v is : 47\n",
            "\n",
            "success: digital signature is verified!\n",
            " 47\n"
          ]
        }
      ],
      "source": [
        "import random\n",
        "from sympy import isprime, nextprime, mod_inverse\n",
        "\n",
        "class DSAAlg:\n",
        "    one = 1\n",
        "    zero = 0\n",
        "\n",
        "    @staticmethod\n",
        "    def get_next_prime(ans):\n",
        "        test = int(ans)\n",
        "        while not isprime(test):\n",
        "            test += 1\n",
        "        return test\n",
        "\n",
        "    @staticmethod\n",
        "    def find_q(n):\n",
        "        start = 2\n",
        "        while not isprime(n):\n",
        "            while n % start != 0:\n",
        "                start += 1\n",
        "            n //= start\n",
        "        return n\n",
        "\n",
        "    @staticmethod\n",
        "    def get_gen(p, q, r):\n",
        "        h = random.randint(2, p - 1)\n",
        "        return pow(h, (p - 1) // q, p)\n",
        "\n",
        "    @staticmethod\n",
        "    def main():\n",
        "        rand_obj = random.Random()\n",
        "        p = DSAAlg.get_next_prime(10600) # approximate prime\n",
        "        q = DSAAlg.find_q(p - 1)\n",
        "        g = DSAAlg.get_gen(p, q, rand_obj)\n",
        "\n",
        "        print(\"\\n simulation of Digital Signature Algorithm \\n\")\n",
        "        print(\"\\n global public key components are:\\n\")\n",
        "        print(f\"\\np is: {p}\")\n",
        "        print(f\"\\nq is: {q}\")\n",
        "        print(f\"\\ng is: {g}\")\n",
        "\n",
        "        x = random.randint(1, q - 1)\n",
        "        y = pow(g, x, p)\n",
        "        k = random.randint(1, q - 1)\n",
        "        r = pow(g, k, p) % q\n",
        "        hash_val = random.randint(1, p - 1)\n",
        "        k_inv = mod_inverse(k, q)\n",
        "        s = (k_inv * (hash_val + x * r)) % q\n",
        "\n",
        "        print(\"\\nsecret information are:\\n\")\n",
        "        print(f\"x (private) is: {x}\")\n",
        "        print(f\"k (secret) is: {k}\")\n",
        "        print(f\"y (public) is: {y}\")\n",
        "        print(f\"h (rndhash) is: {hash_val}\")\n",
        "\n",
        "        print(\"\\n generating digital signature:\\n\")\n",
        "        print(f\"r is : {r}\")\n",
        "        print(f\"s is : {s}\")\n",
        "\n",
        "        w = mod_inverse(s, q)\n",
        "        u1 = (hash_val * w) % q\n",
        "        u2 = (r * w) % q\n",
        "        v = (pow(g, u1, p) * pow(y, u2, p)) % p % q\n",
        "\n",
        "        print(\"\\nverifying digital signature (checkpoints)\\n:\")\n",
        "        print(f\"w is : {w}\")\n",
        "        print(f\"u1 is : {u1}\")\n",
        "        print(f\"u2 is : {u2}\")\n",
        "        print(f\"v is : {v}\")\n",
        "\n",
        "        if v == r:\n",
        "            print(f\"\\nsuccess: digital signature is verified!\\n {r}\")\n",
        "        else:\n",
        "            print(\"\\n error: incorrect digital signature\\n \")\n",
        "\n",
        "if __name__ == \"__main__\":\n",
        "    DSAAlg.main()"
      ]
    }
  ]
}