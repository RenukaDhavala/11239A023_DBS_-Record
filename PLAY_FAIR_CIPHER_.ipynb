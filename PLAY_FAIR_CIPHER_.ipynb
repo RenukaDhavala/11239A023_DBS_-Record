{
  "nbformat": 4,
  "nbformat_minor": 0,
  "metadata": {
    "colab": {
      "provenance": [],
      "authorship_tag": "ABX9TyOV7aldsM1nF+VUdl5fnyJm",
      "include_colab_link": true
    },
    "kernelspec": {
      "name": "python3",
      "display_name": "Python 3"
    },
    "language_info": {
      "name": "python"
    }
  },
  "cells": [
    {
      "cell_type": "markdown",
      "metadata": {
        "id": "view-in-github",
        "colab_type": "text"
      },
      "source": [
        "<a href=\"https://colab.research.google.com/github/RenukaDhavala/11239A023_DBS_-Record/blob/main/PLAY_FAIR_CIPHER_.ipynb\" target=\"_parent\"><img src=\"https://colab.research.google.com/assets/colab-badge.svg\" alt=\"Open In Colab\"/></a>"
      ]
    },
    {
      "cell_type": "code",
      "execution_count": 5,
      "metadata": {
        "colab": {
          "base_uri": "https://localhost:8080/"
        },
        "id": "O7TX2ulVpCEl",
        "outputId": "153f05f9-9821-4e5f-e047-8207d340a9b9"
      },
      "outputs": [
        {
          "output_type": "stream",
          "name": "stdout",
          "text": [
            "Key: MONARCHY\n",
            "Text: BALLOON\n",
            "Cipher: IBSUPMNA\n"
          ]
        }
      ],
      "source": [
        "key = input(\"Key: \").upper().replace(\"J\",\"I\")\n",
        "text = input(\"Text: \").upper().replace(\"J\",\"I\").replace(\" \",\"\")\n",
        "\n",
        "# make key matrix\n",
        "m = []\n",
        "for c in key:\n",
        "    if c not in m and c.isalpha(): m.append(c)\n",
        "for c in \"ABCDEFGHIKLMNOPQRSTUVWXYZ\":\n",
        "    if c not in m: m.append(c)\n",
        "M = [m[i*5:(i+1)*5] for i in range(5)]\n",
        "\n",
        "# make pairs\n",
        "pairs = []\n",
        "i=0\n",
        "while i<len(text):\n",
        "    a = text[i]\n",
        "    b = text[i+1] if i+1<len(text) else \"X\"\n",
        "    if a==b: pairs.append(a+\"X\"); i+=1\n",
        "    else: pairs.append(a+b); i+=2\n",
        "\n",
        "# encrypt\n",
        "cipher=\"\"\n",
        "for a,b in pairs:\n",
        "    for r in range(5):\n",
        "        for c in range(5):\n",
        "            if M[r][c]==a: r1,c1=r,c\n",
        "            if M[r][c]==b: r2,c2=r,c\n",
        "    if r1==r2: cipher+=M[r1][(c1+1)%5]+M[r2][(c2+1)%5]\n",
        "    elif c1==c2: cipher+=M[(r1+1)%5][c1]+M[(r2+1)%5][c2]\n",
        "    else: cipher+=M[r1][c2]+M[r2][c1]\n",
        "\n",
        "print(\"Cipher:\", cipher)\n"
      ]
    }
  ]
}