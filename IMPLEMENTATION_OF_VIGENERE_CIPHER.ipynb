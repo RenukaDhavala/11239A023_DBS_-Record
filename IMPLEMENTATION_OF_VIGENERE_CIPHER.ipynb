{
  "nbformat": 4,
  "nbformat_minor": 0,
  "metadata": {
    "colab": {
      "provenance": [],
      "authorship_tag": "ABX9TyNlb3tIGXf/K97FScIKmt2w",
      "include_colab_link": true
    },
    "kernelspec": {
      "name": "python3",
      "display_name": "Python 3"
    },
    "language_info": {
      "name": "python"
    }
  },
  "cells": [
    {
      "cell_type": "markdown",
      "metadata": {
        "id": "view-in-github",
        "colab_type": "text"
      },
      "source": [
        "<a href=\"https://colab.research.google.com/github/RenukaDhavala/11239A023_DBS_-Record/blob/main/IMPLEMENTATION_OF_VIGENERE_CIPHER.ipynb\" target=\"_parent\"><img src=\"https://colab.research.google.com/assets/colab-badge.svg\" alt=\"Open In Colab\"/></a>"
      ]
    },
    {
      "cell_type": "code",
      "execution_count": 2,
      "metadata": {
        "colab": {
          "base_uri": "https://localhost:8080/"
        },
        "id": "ya0pOoB1s8H9",
        "outputId": "96c318e5-6750-4279-d681-4f2b2dded39a"
      },
      "outputs": [
        {
          "name": "stdout",
          "output_type": "stream",
          "text": [
            "\n",
            "1. Encrypt Text\n",
            "\t2. Decrypt Text\n",
            "\t3. Exit\n",
            "\n",
            "\n",
            "Enter Your Choice: 1\n",
            "\n",
            "\n",
            "Enter Plain Text: You recived an mystery gift package of 10k\n",
            "\n",
            "Enter Key Value: 3\n",
            "\n",
            "Resultant Cipher Text: KAGFDQOUHQPFMZFYKEFQDKFSURFFBMOWMSQFARFWVW\n",
            "\n",
            "1. Encrypt Text\n",
            "\t2. Decrypt Text\n",
            "\t3. Exit\n",
            "\n",
            "\n",
            "Enter Your Choice: 2\n",
            "\n",
            "\n",
            "Enter Cipher Text: BE safe\n",
            "\n",
            "\n",
            "Enter the key value: 2\n",
            "QTIHPUT\n",
            "\n",
            "1. Encrypt Text\n",
            "\t2. Decrypt Text\n",
            "\t3. Exit\n",
            "\n",
            "\n",
            "Enter Your Choice: 3\n"
          ]
        }
      ],
      "source": [
        "import string\n",
        "def encipher():\n",
        "    input_text = input(\"\\n\\nEnter Plain Text: \")\n",
        "    key = input(\"\\nEnter Key Value: \")\n",
        "    print(\"\\nResultant Cipher Text: \", end=\"\")\n",
        "    j = 0\n",
        "    for i in range(len(input_text)):\n",
        "        if j >= len(key):\n",
        "            j = 0\n",
        "        cipher_char = chr(65 + ((ord(input_text[i].upper()) - 65 + ord(key[j].upper()) - 65) % 26))\n",
        "        print(cipher_char, end=\"\")\n",
        "        j += 1\n",
        "    print()\n",
        "\n",
        "def decipher():\n",
        "    input_text = input(\"\\n\\nEnter Cipher Text: \")\n",
        "    key = input(\"\\n\\nEnter the key value: \")\n",
        "    j = 0\n",
        "    for i in range(len(input_text)):\n",
        "        if j >= len(key):\n",
        "            j = 0\n",
        "        value = (ord(input_text[i].upper()) - 64) - (ord(key[j].upper()) - 64)\n",
        "        if value < 0:\n",
        "            value = value + 26 # Corrected decryption logic\n",
        "        print(chr(65 + (value % 26)), end=\"\")\n",
        "        j += 1\n",
        "    print()\n",
        "\n",
        "def main():\n",
        "    while True:\n",
        "        print(\"\\n1. Encrypt Text\")\n",
        "        print(\"\\t2. Decrypt Text\")\n",
        "        print(\"\\t3. Exit\")\n",
        "        choice = int(input(\"\\n\\nEnter Your Choice: \"))\n",
        "        if choice == 3:\n",
        "            break\n",
        "        elif choice == 1:\n",
        "            encipher()\n",
        "        elif choice == 2:\n",
        "            decipher()\n",
        "        else:\n",
        "            print(\"Please Enter Valid Option.\")\n",
        "\n",
        "if __name__ == \"__main__\":\n",
        "    main()"
      ]
    }
  ]
}