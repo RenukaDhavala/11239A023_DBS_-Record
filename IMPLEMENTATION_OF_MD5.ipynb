{
  "nbformat": 4,
  "nbformat_minor": 0,
  "metadata": {
    "colab": {
      "provenance": [],
      "authorship_tag": "ABX9TyN1CpXnzItL6g5PdIruGZ+e",
      "include_colab_link": true
    },
    "kernelspec": {
      "name": "python3",
      "display_name": "Python 3"
    },
    "language_info": {
      "name": "python"
    }
  },
  "cells": [
    {
      "cell_type": "markdown",
      "metadata": {
        "id": "view-in-github",
        "colab_type": "text"
      },
      "source": [
        "<a href=\"https://colab.research.google.com/github/RenukaDhavala/11239A023_DBS_-Record/blob/main/IMPLEMENTATION_OF_MD5.ipynb\" target=\"_parent\"><img src=\"https://colab.research.google.com/assets/colab-badge.svg\" alt=\"Open In Colab\"/></a>"
      ]
    },
    {
      "cell_type": "code",
      "execution_count": 2,
      "metadata": {
        "colab": {
          "base_uri": "https://localhost:8080/"
        },
        "id": "-oxoKlGPw2f-",
        "outputId": "88fb8a1a-71f6-42ec-9961-ebc51cd5a807"
      },
      "outputs": [
        {
          "output_type": "stream",
          "name": "stdout",
          "text": [
            "\t MD5 ENCRYPTION ALGORITHM IN PYTHON \n",
            "\n",
            "Input String to be Encrypted using MD5 : \n",
            "\tThe quick brown fox jumps over the lazy dog\n",
            "\n",
            "The MD5 code for input string is: \n",
            "\t= 0x-ec89d67d78a23d6c0c791c0048d35d63ebd30f49ed91aef00593235e39462044395348113561377c4133f536fe7e8caabb7e11f9c531d2dd6b43553b7ef7fde3657db35337e58fd2e9d6282ef62-ee89ee70067b9f4cc82d9af6dbe7ae913d04babdeb503d4e322892573696aa4c2292c2e640c558cd9bfc2a1b04707d4324e11d8035f73301500fd026037191c93f786a0ac9198fb1f1e13289e0897d49d4c9774404ed06118801b5d61ff9fbb8496a398d88098af21129e0c7a56e430c97f85f86f634e9f1d6a37e291810775989f563aac9a93f40cfddc4cbdd445ff8f12a5d661bb31525ee65b109b34351dd86b-e28ba5add26bd9dc23dd377b201143814bcde2e38a39a86faf3035b9a319876ffceab9b5299c0356e1f130b3846b968a0de45416fbb0a7169385f545ed7f64ddb682a5b6ba74b3f106e29e65bbe\n",
            "\n",
            "\t MD5 Encryption Successfully Completed!!!\n",
            "\n"
          ]
        }
      ],
      "source": [
        "import math\n",
        "import struct\n",
        "class MD5union:\n",
        "    def __init__(self):\n",
        "        self.w = 0\n",
        "        self.b = bytearray(4)\n",
        "DigestArray = list[int]\n",
        "def func0(abcd: list[int]) -> int:\n",
        "    return (abcd[1] & abcd[2]) | (~abcd[1] & abcd[3])\n",
        "def func1(abcd: list[int]) -> int:\n",
        "    return (abcd[3] & abcd[1]) | (~abcd[3] & abcd[2])\n",
        "def func2(abcd: list[int]) -> int:\n",
        "    return abcd[1] ^ abcd[2] ^ abcd[3]\n",
        "def func3(abcd: list[int]) -> int:\n",
        "    return abcd[2] ^ (abcd[1] | ~abcd[3])\n",
        "def calctable(k: list[int]) -> list[int]:\n",
        "    pwr = 2 ** 32\n",
        "    for i in range(64):\n",
        "        s = abs(math.sin(1 + i))\n",
        "        k[i] = int(s * pwr)\n",
        "    return k\n",
        "def rol(r: int, N: int) -> int:\n",
        "    mask1 = (1 << N) - 1\n",
        "    return ((r >> (32 - N)) & mask1) | ((r << N) & ~mask1)\n",
        "def md5(msg: str, mlen: int) -> DigestArray:\n",
        "    h0 = [0x67452301, 0xEFCDAB89, 0x98BADCFE, 0x10325476]\n",
        "    ff = [func0, func1, func2, func3]\n",
        "    M = [1, 5, 3, 7]\n",
        "    O = [0, 1, 5, 0]\n",
        "    rot0 = [7, 12, 17, 22]\n",
        "    rot1 = [5, 9, 14, 20]\n",
        "    rot2 = [4, 11, 16, 23]\n",
        "    rot3 = [6, 10, 15, 21]\n",
        "    rots = [rot0, rot1, rot2, rot3]\n",
        "    kspace = [0] * 64\n",
        "    k = calctable(kspace)\n",
        "    h = h0.copy()\n",
        "    grps = 1 + (mlen + 8) // 64\n",
        "    msg2 = bytearray(64 * grps)\n",
        "    msg2[:mlen] = msg.encode()\n",
        "    msg2[mlen] = 0x80\n",
        "    u = struct.pack(\"<I\", 8 * mlen)\n",
        "    msg2[-8:-4] = u\n",
        "    for grp in range(grps):\n",
        "        mm = msg2[grp*64:(grp+1)*64]\n",
        "        abcd = h.copy()\n",
        "        for p in range(4):\n",
        "            fctn = ff[p]\n",
        "            rotn = rots[p]\n",
        "            m, o = M[p], O[p]\n",
        "            for q in range(16):\n",
        "                g = (m * q + o) % 16\n",
        "                f = abcd[1] + rol(abcd[0] + fctn(abcd) + k[q + 16 * p] +\n",
        "                                 struct.unpack(\"<I\", mm[4*g:4*g+4])[0], rotn[q % 4])\n",
        "                abcd = [abcd[3], f, abcd[1], abcd[2]]\n",
        "        h = [h[i] + abcd[i] for i in range(4)]\n",
        "    return h\n",
        "def main():\n",
        "    msg = \"The quick brown fox jumps over the lazy dog\"\n",
        "    d = md5(msg, len(msg))\n",
        "    print(\"\\t MD5 ENCRYPTION ALGORITHM IN PYTHON \\n\")\n",
        "    print(f\"Input String to be Encrypted using MD5 : \\n\\t{msg}\")\n",
        "    print(\"\\nThe MD5 code for input string is: \")\n",
        "    print(\"\\t= 0x\", end=\"\")\n",
        "    for val in d:\n",
        "        print(f\"{val:08x}\", end=\"\")\n",
        "    print(\"\\n\")\n",
        "    print(\"\\t MD5 Encryption Successfully Completed!!!\\n\")\n",
        "if __name__ == \"__main__\":\n",
        "    main()"
      ]
    }
  ]
}