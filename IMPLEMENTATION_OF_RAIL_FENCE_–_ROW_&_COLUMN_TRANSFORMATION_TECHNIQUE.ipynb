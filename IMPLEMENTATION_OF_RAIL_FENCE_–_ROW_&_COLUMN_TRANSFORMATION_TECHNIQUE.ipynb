{
  "nbformat": 4,
  "nbformat_minor": 0,
  "metadata": {
    "colab": {
      "provenance": [],
      "authorship_tag": "ABX9TyNAnrib9Kdjq6s3RPqGl+7I",
      "include_colab_link": true
    },
    "kernelspec": {
      "name": "python3",
      "display_name": "Python 3"
    },
    "language_info": {
      "name": "python"
    }
  },
  "cells": [
    {
      "cell_type": "markdown",
      "metadata": {
        "id": "view-in-github",
        "colab_type": "text"
      },
      "source": [
        "<a href=\"https://colab.research.google.com/github/RenukaDhavala/11239A023_DBS_-Record/blob/main/IMPLEMENTATION_OF_RAIL_FENCE_%E2%80%93_ROW_%26_COLUMN_TRANSFORMATION_TECHNIQUE.ipynb\" target=\"_parent\"><img src=\"https://colab.research.google.com/assets/colab-badge.svg\" alt=\"Open In Colab\"/></a>"
      ]
    },
    {
      "cell_type": "code",
      "execution_count": 2,
      "metadata": {
        "colab": {
          "base_uri": "https://localhost:8080/"
        },
        "id": "VrUWp_LAt3wl",
        "outputId": "5e87b7fe-fe47-48a7-b7cf-3a5b77b6f27c"
      },
      "outputs": [
        {
          "name": "stdout",
          "output_type": "stream",
          "text": [
            "\n",
            "\t\t RAIL FENCE TECHNIQUE\n",
            "\n",
            "\n",
            "Enter the input string : hy bro how are you\n",
            "\n",
            "Cipher text after applying rail fence :\n",
            "h r o r oybohwaeyu\n",
            "\n",
            "Text after decryption : \n",
            "hy bro how are you\n",
            "Press Enter to continue...\n"
          ]
        }
      ],
      "source": [
        "import sys\n",
        "def main():\n",
        "    print(\"\\n\\t\\t RAIL FENCE TECHNIQUE\")\n",
        "    a = input(\"\\n\\nEnter the input string : \")\n",
        "    l = len(a)\n",
        "    # Ciphering\n",
        "    c = ''.join([a[i] for i in range(l) if i % 2 == 0])\n",
        "    c += ''.join([a[i] for i in range(l) if i % 2 == 1])\n",
        "    print(\"\\nCipher text after applying rail fence :\")\n",
        "    print(c)\n",
        "    # Deciphering\n",
        "    k = l // 2 if l % 2 == 0 else (l // 2) + 1\n",
        "    d = [''] * l\n",
        "    for i in range(k):\n",
        "        d[i*2] = c[i]\n",
        "    for i in range(k, l):\n",
        "        d[(i-k)*2 + 1] = c[i]\n",
        "    d = ''.join(d)\n",
        "    print(\"\\nText after decryption : \")\n",
        "    print(d)\n",
        "    input(\"Press Enter to continue...\")\n",
        "if __name__ == \"__main__\":\n",
        "    main()"
      ]
    }
  ]
}